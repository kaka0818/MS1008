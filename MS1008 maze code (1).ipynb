{
 "cells": [
  {
   "cell_type": "markdown",
   "id": "fcd42740",
   "metadata": {},
   "source": [
    "# importing necessary libraries (slide 5)"
   ]
  },
  {
   "cell_type": "code",
   "execution_count": null,
   "id": "6d3eb58e",
   "metadata": {},
   "outputs": [],
   "source": [
    "#import numpy and matplotlib \n",
    "import numpy as np\n",
    "import matplotlib.pyplot as plt"
   ]
  },
  {
   "cell_type": "code",
   "execution_count": null,
   "id": "4d998d73",
   "metadata": {},
   "outputs": [],
   "source": [
    "#original code to open the maze\n",
    "file = open(\"maze.txt\", \"r\")\n",
    "maze = file.readlines()"
   ]
  },
  {
   "cell_type": "code",
   "execution_count": null,
   "id": "fa765e89",
   "metadata": {},
   "outputs": [],
   "source": [
    "#adjusted code to open the maze with FileNotFound error \n",
    "filepath = \"\"  #copy file path and change \\ to \\\\\n",
    "file = open(filepath, \"r\")\n",
    "maze = file.readlines()"
   ]
  },
  {
   "cell_type": "markdown",
   "id": "09f45cd0",
   "metadata": {},
   "source": [
    "# code for making arrays (slide 6)"
   ]
  },
  {
   "cell_type": "code",
   "execution_count": null,
   "id": "80d6f7f4",
   "metadata": {},
   "outputs": [],
   "source": [
    "#create an empty array\n",
    "mazearray = []  "
   ]
  },
  {
   "cell_type": "code",
   "execution_count": null,
   "id": "2c05579f",
   "metadata": {},
   "outputs": [],
   "source": [
    "#convert True\\n and False\\n in maze into 1 and 0\n",
    "for i in maze: \n",
    "    if i == \"True\\n\": \n",
    "        mazearray.append(1)  #shows that there's a wall\n",
    "    else: \n",
    "        mazearray.append(0)  #shows that there's nothing"
   ]
  },
  {
   "cell_type": "code",
   "execution_count": null,
   "id": "c6183ccc",
   "metadata": {},
   "outputs": [],
   "source": [
    "#make two arrays to create two versions of the maze\n",
    "\n",
    "#create 1 dimensional arrays\n",
    "array1 = np.array(mazearray)  #maze for rough working\n",
    "array2 = np.array(mazearray)  #maze to show the final solution\n",
    "\n",
    "#creaate 2 dimensional, 51x51 arrays\n",
    "shape = (51,51)  #size of the square \n",
    "maze1 = array1.reshape(shape) \n",
    "maze2 = array2.reshape(shape)\n",
    "\n",
    "#flip the maze diagonally using transpose\n",
    "maze = np.transpose(maze1)\n",
    "solnplot = np.transpose(maze2)"
   ]
  },
  {
   "cell_type": "code",
   "execution_count": null,
   "id": "42946975",
   "metadata": {},
   "outputs": [],
   "source": [
    "#indicate the endpoint of the maze \n",
    "maze[47][1] = 6"
   ]
  },
  {
   "cell_type": "markdown",
   "id": "799d5c43",
   "metadata": {},
   "source": [
    "# walk function (slide 13, 14)"
   ]
  },
  {
   "cell_type": "code",
   "execution_count": null,
   "id": "e82aab04",
   "metadata": {},
   "outputs": [],
   "source": [
    "#create an empty list to store the solution\n",
    "soln = list()"
   ]
  },
  {
   "cell_type": "code",
   "execution_count": null,
   "id": "ad9ebdc6",
   "metadata": {},
   "outputs": [],
   "source": [
    "#define the walk function, which creates coordinates leading to the endpoint\n",
    "def walk(x,y): \n",
    "    soln.append((x,y))\n",
    "    \n",
    "    if maze[x][y] == 6: \n",
    "        print(\"The solution has been obtained!\")\n",
    "    elif maze[x+1][y] == 0 or maze[x+1][y] == 6:  #if the square below is empty or the endpoint\n",
    "        maze[x][y] = 2  #assign a value of 2 to the square we have walked through\n",
    "        walk(x+1,y)  #go down\n",
    "    elif maze[x][y-1] == 0 or maze[x][y-1] == 6:\n",
    "        maze[x][y] = 2\n",
    "        walk(x,y-1)  #go left\n",
    "    elif maze[x][y+1] == 0 or maze[x][y+1] == 6:\n",
    "        maze[x][y] = 2\n",
    "        walk(x,y+1)  #go right\n",
    "    elif maze[x-1][y] == 0 or maze[x-1][y] == 6:\n",
    "        maze[x][y] = 2\n",
    "        walk(x-1,y)  #go up\n",
    "    \n",
    "    else:  #if the surrounding squares are walls and not endpoints\n",
    "        maze[x][y] = 5  #assign a value of 5 to the dead end\n",
    "        soln.remove((x,y))  #remove coordinates of the dead end\n",
    "        if maze[x-1][y] == 2:  #if we have previously walked through the square on top\n",
    "            walk(x-1,y)  #go up\n",
    "        elif maze[x][y+1] == 2: \n",
    "            walk(x,y+1)  #go right\n",
    "        elif maze[x][y-1] == 2: \n",
    "            walk(x,y-1)  #go left\n",
    "        elif maze[x+1][y] == 2: \n",
    "            walk(x+1,y)  #go down"
   ]
  },
  {
   "cell_type": "markdown",
   "id": "108dd1d7",
   "metadata": {},
   "source": [
    "# cleanloop function (slide 15)"
   ]
  },
  {
   "cell_type": "code",
   "execution_count": null,
   "id": "8e82ee80",
   "metadata": {},
   "outputs": [],
   "source": [
    "#create an empty list to be used\n",
    "soln3 = list()  #list containing coordinates from the start to end of the maze"
   ]
  },
  {
   "cell_type": "code",
   "execution_count": null,
   "id": "09098c69",
   "metadata": {},
   "outputs": [],
   "source": [
    "#define the cleanloop function to remove unnecessary turns in the solution path \n",
    "def cleanloop(x,y):\n",
    "    for i in soln:\n",
    "        if soln3.count(i) >= 1:\n",
    "            for j in range(len(soln3)-1, soln3.index(i), -1):\n",
    "                soln.pop(j)\n",
    "        soln3.append(i)"
   ]
  },
  {
   "cell_type": "markdown",
   "id": "37ffceeb",
   "metadata": {},
   "source": [
    "# check function (slide 16)"
   ]
  },
  {
   "cell_type": "code",
   "execution_count": null,
   "id": "f83092b1",
   "metadata": {},
   "outputs": [],
   "source": [
    "#define the check function to ensure that input (starting point) is not a wall\n",
    "def check(x,y): \n",
    "    global checker  #define a global variable 'checker' to be used...?\n",
    "    checker = 0\n",
    "    if maze[x][y] == 1: \n",
    "        print(\"The point you have selected is a wall. Please select another point\")\n",
    "        checker = 1"
   ]
  },
  {
   "cell_type": "markdown",
   "id": "8c5372b0",
   "metadata": {},
   "source": [
    "# plotting function (slide 16)"
   ]
  },
  {
   "cell_type": "code",
   "execution_count": null,
   "id": "00addd19",
   "metadata": {},
   "outputs": [],
   "source": [
    "#define the plotting function to plot the solution obtained from the coordinates in the list 'soln3'\n",
    "def plotting(c): \n",
    "    for (a,b) in soln3: \n",
    "        solnplot[a][b] = c"
   ]
  },
  {
   "cell_type": "markdown",
   "id": "a7957f91",
   "metadata": {},
   "source": [
    "# path function (slide 17)"
   ]
  },
  {
   "cell_type": "code",
   "execution_count": null,
   "id": "80502a57",
   "metadata": {},
   "outputs": [],
   "source": [
    "#create two empty lists to be used\n",
    "mazepath = list()  #list of directions in words (up, down, left, right)\n",
    "soln2 = list()  #list of directions in coordinate form (x,y)"
   ]
  },
  {
   "cell_type": "code",
   "execution_count": null,
   "id": "71a4a459",
   "metadata": {},
   "outputs": [],
   "source": [
    "#define the path function to create a list of directions from the start to end of the maze\n",
    "def path(x,y): \n",
    "    for removeduplicate in range(0,5):  #remove duplicate points \n",
    "        for element in soln3: \n",
    "            if soln3.count(element) > 1: \n",
    "                soln3.remove(element)\n",
    "    \n",
    "    for (x,y) in soln3:  #ensure that the directions in the lists fulfil two conditions  \n",
    "        soln2.append((x,y))\n",
    "        #condition 1: the point beside (in diff directions) the specified point (x,y) exists\n",
    "        #condition 2: this point does not exist in soln2\n",
    "        if (x+1,y) in soln3 and (x+1,y) not in soln2: \n",
    "            soln2.append((x+1,y))\n",
    "            mazepath.append(\"Down\")\n",
    "        elif (x-1,y) in soln3 and (x-1,y) not in soln2: \n",
    "            soln2.append((x-1,y))\n",
    "            mazepath.append(\"Up\")\n",
    "        elif (x,y+1) in soln3 and (x,y+1) not in soln2: \n",
    "            soln2.append((x,y+1))\n",
    "            mazepath.append(\"Right\")\n",
    "        elif (x,y-1) in soln3 and (x,y-1) not in soln2: \n",
    "            soln2.append((x,y-1))\n",
    "            mazepath.append(\"Left\")\n",
    "        #since the new points are added to soln2, we can avoid going through the same point repeatedly\n",
    "    \n",
    "    print(mazepath)"
   ]
  },
  {
   "cell_type": "markdown",
   "id": "527f4e1d",
   "metadata": {},
   "source": [
    "# gap filling function (slide 18)"
   ]
  },
  {
   "cell_type": "code",
   "execution_count": null,
   "id": "90f4700e",
   "metadata": {},
   "outputs": [],
   "source": [
    "#define the fill function to link up the solution path if any points were accidentally removed as dead ends\n",
    "def fill(x,y): \n",
    "    count = 0\n",
    "    \n",
    "    while count < 5:  #prevent endless repetition \n",
    "        for (x,y) in soln3[1 : len(soln)-1]:  #exclude the start and end points\n",
    "            #list down the possibilities for all the adjacent points\n",
    "            if (x+1, y) in soln3 and (x-1,y) in soln3:  #up down\n",
    "                pass\n",
    "            elif (x, y-1) in soln3 and (x,y+1) in soln3:  #left right\n",
    "                pass\n",
    "            elif (x-1, y) in soln3 and (x,y-1) in soln3:  #up left\n",
    "                pass\n",
    "            elif (x-1, y) in soln3 and (x,y+1) in soln3:  #up right\n",
    "                pass\n",
    "            elif (x, y-1) in soln3 and (x+1,y) in soln3:  #left down\n",
    "                pass\n",
    "            elif (x+1, y) in soln3 and (x,y+1) in soln3:  #down right\n",
    "                pass\n",
    "            \n",
    "            else: \n",
    "                if maze[x+1][y] != 1:  #down\n",
    "                    soln3.insert(soln3.index((x,y)),(x+1,y))\n",
    "                elif maze[x][y+1] != 1:  #right\n",
    "                    soln3.insert(soln3.index((x,y)),(x,y+1))\n",
    "                elif maze[x-1][y] != 1:  #up\n",
    "                    soln3.insert(soln3.index((x,y)),(x-1,y))\n",
    "                elif maze[x][y-1] != 1:  #left\n",
    "                    soln3.insert(soln3.index((x,y)),(x,y-1))\n",
    "        count += 1"
   ]
  },
  {
   "cell_type": "markdown",
   "id": "eca72465",
   "metadata": {},
   "source": [
    "# solve function (slide 19)"
   ]
  },
  {
   "cell_type": "code",
   "execution_count": null,
   "id": "bf86f06e",
   "metadata": {},
   "outputs": [],
   "source": [
    "#define the solve function to find the final maze path solution\n",
    "def solve(): \n",
    "    #accept user inputs for the starting point of the path\n",
    "    print(\"Please input integers only! Floats will be rounded down to the nearest integer.\")\n",
    "    #input x coordinate with error checking\n",
    "    x = int(float(input(\"Input x coordinate: \")))\n",
    "    while x<0 or x>50: \n",
    "        print(\"Point will be invalid as it will lie outside the maze.\")\n",
    "        x = int(float(input(\"Input x coordinate: \")))\n",
    "    #input y coordinate with error checking\n",
    "    y = int(float(input(\"Input y coordinate: \")))\n",
    "    while y<0 or y>50: \n",
    "        print(\"Point will be invalid as it will lie outside the maze.\")\n",
    "        y = int(float(input(\"Input y coordinate: \")))\n",
    "    \n",
    "    check(x,y)\n",
    "    \n",
    "    if checker == 0: \n",
    "        walk(x,y)\n",
    "        cleanloop(x,y)\n",
    "        fill(x,y)\n",
    "        path(x,y)\n",
    "        print(soln3)\n",
    "        maze[maze==2] = 6\n",
    "        plotting(6)\n",
    "        fig,p = plt.subplots(1,2)\n",
    "        p[0].imshow(maze)\n",
    "        p[0].title.set_text(\"Path Plot\")\n",
    "        p[1].imshow(solnplot)\n",
    "        p[1].title.set_text(\"Solution Plot\")\n",
    "    else: \n",
    "        solve()"
   ]
  },
  {
   "cell_type": "code",
   "execution_count": null,
   "id": "8655cf83",
   "metadata": {},
   "outputs": [],
   "source": [
    "#run the solution function on the given maze\n",
    "solve()"
   ]
  },
  {
   "cell_type": "code",
   "execution_count": null,
   "id": "0e94d4ee",
   "metadata": {},
   "outputs": [],
   "source": []
  }
 ],
 "metadata": {
  "kernelspec": {
   "display_name": "Python 3 (ipykernel)",
   "language": "python",
   "name": "python3"
  },
  "language_info": {
   "codemirror_mode": {
    "name": "ipython",
    "version": 3
   },
   "file_extension": ".py",
   "mimetype": "text/x-python",
   "name": "python",
   "nbconvert_exporter": "python",
   "pygments_lexer": "ipython3",
   "version": "3.9.12"
  }
 },
 "nbformat": 4,
 "nbformat_minor": 5
}
